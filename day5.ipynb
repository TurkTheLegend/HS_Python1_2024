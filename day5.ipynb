{
 "cells": [
  {
   "cell_type": "markdown",
   "metadata": {},
   "source": [
    "# Day 5"
   ]
  },
  {
   "cell_type": "code",
   "execution_count": 1,
   "metadata": {},
   "outputs": [
    {
     "data": {
      "text/plain": [
       "True"
      ]
     },
     "execution_count": 1,
     "metadata": {},
     "output_type": "execute_result"
    }
   ],
   "source": [
    "True and (False or True)"
   ]
  },
  {
   "cell_type": "markdown",
   "metadata": {},
   "source": [
    "## Constant"
   ]
  },
  {
   "cell_type": "code",
   "execution_count": null,
   "metadata": {},
   "outputs": [],
   "source": [
    "PI = 3.14\n",
    "MATH_E = 2.7\n",
    "API_LINK = ''"
   ]
  },
  {
   "cell_type": "markdown",
   "metadata": {},
   "source": [
    "## Conditionals"
   ]
  },
  {
   "cell_type": "code",
   "execution_count": 2,
   "metadata": {},
   "outputs": [
    {
     "name": "stdout",
     "output_type": "stream",
     "text": [
      "Hello World\n"
     ]
    }
   ],
   "source": [
    "if 3 > 2 :\n",
    "    print(\"Hello World\")"
   ]
  },
  {
   "cell_type": "code",
   "execution_count": 4,
   "metadata": {},
   "outputs": [
    {
     "name": "stdout",
     "output_type": "stream",
     "text": [
      "YES\n"
     ]
    }
   ],
   "source": [
    "if 5 != 4 :\n",
    "    print(\"YES\")\n",
    "\n",
    "if not(5 != 4 and 6 > 3) :\n",
    "    print(\"YESS\")"
   ]
  },
  {
   "cell_type": "code",
   "execution_count": null,
   "metadata": {},
   "outputs": [
    {
     "name": "stdout",
     "output_type": "stream",
     "text": [
      "YESS\n",
      "WOW\n",
      "WOW1\n",
      "WOW2\n"
     ]
    },
    {
     "name": "stdout",
     "output_type": "stream",
     "text": [
      "YESS\n",
      "WOW\n",
      "WOW1\n",
      "WOW2\n"
     ]
    }
   ],
   "source": [
    "if (5 != 4 and 6 > 3) :\n",
    "    print(\"YESS\")\n",
    "    print(\"WOW\")\n",
    "    if 4 < 5:\n",
    "        print(\"WOW1\")\n",
    "print(\"WOW2\")"
   ]
  },
  {
   "cell_type": "code",
   "execution_count": 12,
   "metadata": {},
   "outputs": [
    {
     "name": "stdout",
     "output_type": "stream",
     "text": [
      "Oh Shit\n",
      "HUH\n"
     ]
    }
   ],
   "source": [
    "if 2 != 3 and 3 != 4 and 4 != 5 and 5 != 6:\n",
    "    if 6 != 7:\n",
    "        print(\"Oh Shit\")\n",
    "    if 11 != 3:\n",
    "        print(\"HUH\")"
   ]
  },
  {
   "cell_type": "markdown",
   "metadata": {},
   "source": [
    "## Else"
   ]
  },
  {
   "cell_type": "code",
   "execution_count": 2,
   "metadata": {},
   "outputs": [
    {
     "name": "stdout",
     "output_type": "stream",
     "text": [
      "TRUE!\n",
      "LANA\n",
      "YES\n"
     ]
    }
   ],
   "source": [
    "if 4 != 5:\n",
    "    print(\"TRUE!\")\n",
    "if 4 <= 6:\n",
    "    print(\"LANA\")\n",
    "else:\n",
    "    print(\"FALSE!\")\n",
    "\n",
    "if 6 > 5:\n",
    "    print(\"YES\")\n",
    "else:\n",
    "    print(\"NO\")"
   ]
  },
  {
   "cell_type": "markdown",
   "metadata": {},
   "source": [
    "## Elif"
   ]
  },
  {
   "cell_type": "code",
   "execution_count": 3,
   "metadata": {},
   "outputs": [
    {
     "name": "stdout",
     "output_type": "stream",
     "text": [
      "C\n"
     ]
    }
   ],
   "source": [
    "if 2 > 3:\n",
    "    print(\"A\")\n",
    "elif 3 > 4:\n",
    "    print(\"B\")\n",
    "elif 4 < 5:\n",
    "    print(\"C\")\n",
    "else :\n",
    "    print(\"D\")"
   ]
  },
  {
   "cell_type": "markdown",
   "metadata": {},
   "source": [
    "## Decide what to eat"
   ]
  },
  {
   "cell_type": "code",
   "execution_count": null,
   "metadata": {},
   "outputs": [],
   "source": [
    "pocket_money = int(input(\"Enter your pocket money: \"))\n",
    "age = int(input(\"What is your age: \"))\n",
    "\n",
    "if pocket_monet > 3000:\n",
    "    print(\"cavier and foirgra\")\n",
    "    if age >= 20:\n",
    "        print(\"Wine\")\n",
    "elif pocket_money > 3000:\n",
    "    print(\"Omakase\")\n",
    "elif pocket_number > 700:\n",
    "    print(\"Buffet\")\n",
    "    print(\"Beer\")\n",
    "elif pocket_number > 100:\n",
    "    print(\"Tom Yum\")\n",
    "    print(\"Thai Omlette\")\n",
    "elif pocket_number < 10:'\n",
    "    print(\"Water\")"
   ]
  }
 ],
 "metadata": {
  "kernelspec": {
   "display_name": "hs_learning_env",
   "language": "python",
   "name": "python3"
  },
  "language_info": {
   "codemirror_mode": {
    "name": "ipython",
    "version": 3
   },
   "file_extension": ".py",
   "mimetype": "text/x-python",
   "name": "python",
   "nbconvert_exporter": "python",
   "pygments_lexer": "ipython3",
   "version": "3.12.4"
  }
 },
 "nbformat": 4,
 "nbformat_minor": 2
}
