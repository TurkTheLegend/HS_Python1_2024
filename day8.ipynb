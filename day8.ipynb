{
 "cells": [
  {
   "cell_type": "markdown",
   "metadata": {},
   "source": [
    "#  F String"
   ]
  },
  {
   "cell_type": "code",
   "execution_count": 2,
   "metadata": {},
   "outputs": [
    {
     "data": {
      "text/plain": [
       "'Hello asdas'"
      ]
     },
     "execution_count": 2,
     "metadata": {},
     "output_type": "execute_result"
    }
   ],
   "source": [
    "user_name = input()\n",
    "age = input()\n",
    "new_msg = f\"Hello {user_name}\"\n",
    "new_msg"
   ]
  },
  {
   "cell_type": "code",
   "execution_count": 3,
   "metadata": {},
   "outputs": [
    {
     "data": {
      "text/plain": [
       "['Hello,', 'Akarapong', 'your', 'age', 'is', '19']"
      ]
     },
     "execution_count": 3,
     "metadata": {},
     "output_type": "execute_result"
    }
   ],
   "source": [
    "msg = \"Hello, Akarapong your age is 19\"\n",
    "msg.split()"
   ]
  },
  {
   "cell_type": "markdown",
   "metadata": {},
   "source": [
    "## in/not"
   ]
  },
  {
   "cell_type": "code",
   "execution_count": 7,
   "metadata": {},
   "outputs": [
    {
     "name": "stdout",
     "output_type": "stream",
     "text": [
      "False\n",
      "False\n",
      "Yay\n"
     ]
    }
   ],
   "source": [
    "s = \"I love peacock!\"\n",
    "print(\"O\" in s)\n",
    "print(\"oe\" in s)\n",
    "if \"o\" in s:\n",
    "    print(\"Yay\")"
   ]
  },
  {
   "cell_type": "code",
   "execution_count": 12,
   "metadata": {},
   "outputs": [
    {
     "data": {
      "text/plain": [
       "'i love banana'"
      ]
     },
     "execution_count": 12,
     "metadata": {},
     "output_type": "execute_result"
    }
   ],
   "source": [
    "s = \"i love banana\"\n",
    "s.split(\"a\")\n",
    "s\n",
    "s.count(\"a\")\n",
    "s.upper()\n",
    "s.lower()\n",
    "s.isuper()\n",
    "s.replace(\"o\", \"b\")\n"
   ]
  },
  {
   "cell_type": "markdown",
   "metadata": {},
   "source": [
    "# Loop again"
   ]
  },
  {
   "cell_type": "code",
   "execution_count": 13,
   "metadata": {},
   "outputs": [
    {
     "name": "stdout",
     "output_type": "stream",
     "text": [
      "I\n",
      " \n",
      "L\n",
      "O\n",
      "V\n",
      "E\n",
      " \n",
      "P\n",
      "E\n",
      "A\n",
      "C\n",
      "O\n",
      "C\n",
      "K\n",
      "!\n"
     ]
    }
   ],
   "source": [
    "s = \"I love peacock!\"\n",
    "for character in s:\n",
    "    print(character.upper())"
   ]
  },
  {
   "cell_type": "code",
   "execution_count": 15,
   "metadata": {},
   "outputs": [
    {
     "name": "stdout",
     "output_type": "stream",
     "text": [
      "I\n",
      " \n",
      "L\n",
      "O\n",
      "V\n",
      "E\n",
      " \n",
      "P\n",
      "E\n",
      "A\n",
      "C\n",
      "O\n",
      "C\n",
      "K\n"
     ]
    }
   ],
   "source": [
    "s = \"I love peacock!\"\n",
    "for i in range(14):\n",
    "    print(s[i].upper())"
   ]
  },
  {
   "cell_type": "markdown",
   "metadata": {},
   "source": [
    "## Loop by Enumulate"
   ]
  },
  {
   "cell_type": "code",
   "execution_count": 16,
   "metadata": {},
   "outputs": [
    {
     "name": "stdout",
     "output_type": "stream",
     "text": [
      "0 I\n",
      "1  \n",
      "2 l\n",
      "3 o\n",
      "4 v\n",
      "5 e\n",
      "6  \n",
      "7 p\n",
      "8 e\n",
      "9 a\n",
      "10 c\n",
      "11 o\n",
      "12 c\n",
      "13 k\n",
      "14 !\n"
     ]
    }
   ],
   "source": [
    "s = \"I love peacock!\"\n",
    "for i, character in enumerate(s):\n",
    "    print(i, character)\n"
   ]
  }
 ],
 "metadata": {
  "kernelspec": {
   "display_name": "hs_learning_env",
   "language": "python",
   "name": "python3"
  },
  "language_info": {
   "codemirror_mode": {
    "name": "ipython",
    "version": 3
   },
   "file_extension": ".py",
   "mimetype": "text/x-python",
   "name": "python",
   "nbconvert_exporter": "python",
   "pygments_lexer": "ipython3",
   "version": "3.12.4"
  }
 },
 "nbformat": 4,
 "nbformat_minor": 2
}
