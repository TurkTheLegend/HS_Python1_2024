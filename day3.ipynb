{
 "cells": [
  {
   "cell_type": "markdown",
   "id": "99eea60e54694173",
   "metadata": {},
   "source": [
    "\n",
    "# Day3"
   ]
  },
  {
   "cell_type": "code",
   "execution_count": 1,
   "id": "5929cf35d3dc806d",
   "metadata": {},
   "outputs": [
    {
     "name": "stdout",
     "output_type": "stream",
     "text": [
      "19\n",
      "None\n"
     ]
    }
   ],
   "source": [
    "age = 19\n",
    "firstname = \"Akarapong\"\n",
    "is_odd = False\n",
    "print(age)\n",
    "age = None\n",
    "print(age)"
   ]
  },
  {
   "cell_type": "code",
   "execution_count": null,
   "id": "7c00e526",
   "metadata": {},
   "outputs": [],
   "source": [
    "a = 1\n",
    "b = 2\n",
    "\n",
    "first_number = 1\n",
    "second_number = 2\n",
    "date_of_birth_of_a_president_of_harbour_space_utcc =  1960"
   ]
  },
  {
   "cell_type": "code",
   "execution_count": 3,
   "id": "83317a31",
   "metadata": {},
   "outputs": [
    {
     "ename": "SyntaxError",
     "evalue": "invalid syntax (1675739646.py, line 11)",
     "output_type": "error",
     "traceback": [
      "\u001b[0;36m  Cell \u001b[0;32mIn[3], line 11\u001b[0;36m\u001b[0m\n\u001b[0;31m    class\u001b[0m\n\u001b[0m         ^\u001b[0m\n\u001b[0;31mSyntaxError\u001b[0m\u001b[0;31m:\u001b[0m invalid syntax\n"
     ]
    }
   ],
   "source": [
    "name = \"Akarapong\" # Good\n",
    "Age = 19 # Bad\n",
    "first_number = 1 # Good\n",
    "# 1var = 3 #bad\n",
    "# reserved variables\n",
    "False\n",
    "help\n",
    "int\n",
    "bool\n",
    "None\n",
    "class\n"
   ]
  },
  {
   "cell_type": "markdown",
   "id": "8108babe",
   "metadata": {},
   "source": [
    "## Input"
   ]
  },
  {
   "cell_type": "code",
   "execution_count": 4,
   "id": "c16d488e",
   "metadata": {},
   "outputs": [
    {
     "name": "stdout",
     "output_type": "stream",
     "text": [
      "Hello, welcome Hi\n"
     ]
    }
   ],
   "source": [
    "username = input(\"Please enter your name: \")\n",
    "print(\"Hello, welcome\", username)\n",
    "del username"
   ]
  },
  {
   "cell_type": "code",
   "execution_count": 9,
   "id": "8f40ce0b",
   "metadata": {},
   "outputs": [
    {
     "name": "stdout",
     "output_type": "stream",
     "text": [
      "-4 <class 'int'>\n",
      "1 <class 'int'>\n",
      "2\n"
     ]
    },
    {
     "ename": "ValueError",
     "evalue": "invalid literal for int() with base 10: '2.4'",
     "output_type": "error",
     "traceback": [
      "\u001b[0;31m---------------------------------------------------------------------------\u001b[0m",
      "\u001b[0;31mValueError\u001b[0m                                Traceback (most recent call last)",
      "Cell \u001b[0;32mIn[9], line 8\u001b[0m\n\u001b[1;32m      6\u001b[0m a \u001b[38;5;241m=\u001b[39m \u001b[38;5;28mint\u001b[39m(\u001b[38;5;241m2.4\u001b[39m)\n\u001b[1;32m      7\u001b[0m \u001b[38;5;28mprint\u001b[39m(a)\n\u001b[0;32m----> 8\u001b[0m a \u001b[38;5;241m=\u001b[39m \u001b[38;5;28;43mint\u001b[39;49m\u001b[43m(\u001b[49m\u001b[38;5;124;43m\"\u001b[39;49m\u001b[38;5;124;43m2.4\u001b[39;49m\u001b[38;5;124;43m\"\u001b[39;49m\u001b[43m)\u001b[49m\n\u001b[1;32m      9\u001b[0m \u001b[38;5;28mprint\u001b[39m(a)\n",
      "\u001b[0;31mValueError\u001b[0m: invalid literal for int() with base 10: '2.4'"
     ]
    }
   ],
   "source": [
    "#int()\n",
    "a = int(\"-4\")\n",
    "print(a, type(a))\n",
    "a = int(True)\n",
    "print(a, type(a))\n",
    "a = int(2.4)\n",
    "print(a)\n",
    "a = int(\"2.4\")\n",
    "print(a)"
   ]
  },
  {
   "cell_type": "code",
   "execution_count": 15,
   "id": "9616168c",
   "metadata": {},
   "outputs": [
    {
     "name": "stdout",
     "output_type": "stream",
     "text": [
      "-2.0 <class 'float'>\n",
      "-3.14\n",
      "1.0\n"
     ]
    },
    {
     "ename": "ValueError",
     "evalue": "could not convert string to float: 'True'",
     "output_type": "error",
     "traceback": [
      "\u001b[0;31m---------------------------------------------------------------------------\u001b[0m",
      "\u001b[0;31mValueError\u001b[0m                                Traceback (most recent call last)",
      "Cell \u001b[0;32mIn[15], line 8\u001b[0m\n\u001b[1;32m      6\u001b[0m a \u001b[38;5;241m=\u001b[39m \u001b[38;5;28mfloat\u001b[39m(\u001b[38;5;28;01mTrue\u001b[39;00m)\n\u001b[1;32m      7\u001b[0m \u001b[38;5;28mprint\u001b[39m(a)\n\u001b[0;32m----> 8\u001b[0m a \u001b[38;5;241m=\u001b[39m \u001b[38;5;28;43mfloat\u001b[39;49m\u001b[43m(\u001b[49m\u001b[38;5;124;43m\"\u001b[39;49m\u001b[38;5;124;43mTrue\u001b[39;49m\u001b[38;5;124;43m\"\u001b[39;49m\u001b[43m)\u001b[49m\n",
      "\u001b[0;31mValueError\u001b[0m: could not convert string to float: 'True'"
     ]
    }
   ],
   "source": [
    "# float()\n",
    "a = float(\"-2\")\n",
    "print(a, type(a))\n",
    "a = float(\"-3.14\")\n",
    "print(a)\n",
    "a = float(True)\n",
    "print(a)\n",
    "a = float(\"True\")"
   ]
  },
  {
   "cell_type": "code",
   "execution_count": 19,
   "id": "04e01ded",
   "metadata": {},
   "outputs": [
    {
     "name": "stdout",
     "output_type": "stream",
     "text": [
      "True\n",
      "True\n",
      "False\n",
      "False\n"
     ]
    }
   ],
   "source": [
    "# bool()\n",
    "a = bool(1)\n",
    "print(a)\n",
    "a = bool(4)\n",
    "print(a)\n",
    "a = bool(\"\")\n",
    "print(a)\n",
    "a = bool(None)\n",
    "print(a)"
   ]
  },
  {
   "cell_type": "code",
   "execution_count": 24,
   "id": "40580416",
   "metadata": {},
   "outputs": [
    {
     "name": "stdout",
     "output_type": "stream",
     "text": [
      "1\n",
      "True\n",
      "None\n",
      "\n",
      "None\n"
     ]
    }
   ],
   "source": [
    "# str()\n",
    "a = str(1)\n",
    "print(a)\n",
    "a = str(True)\n",
    "print(a)\n",
    "a = str(None)\n",
    "print(a)\n",
    "a = str(print())\n",
    "print(a)"
   ]
  },
  {
   "cell_type": "markdown",
   "id": "8397e731",
   "metadata": {},
   "source": [
    "## Math Operator"
   ]
  },
  {
   "cell_type": "code",
   "execution_count": 33,
   "id": "12a15feb",
   "metadata": {},
   "outputs": [
    {
     "data": {
      "text/plain": [
       "1"
      ]
     },
     "execution_count": 33,
     "metadata": {},
     "output_type": "execute_result"
    }
   ],
   "source": [
    "1 + 1 \n",
    "a = 6 - 3\n",
    "a = 4 * 5\n",
    "a = int(6 / 3)\n",
    "a = 6 // 3\n",
    "a = 2 / 3\n",
    "a = 2 ** 3\n",
    "a = 7 % 3\n",
    "a = 0 ** 0\n",
    "a"
   ]
  },
  {
   "cell_type": "code",
   "execution_count": 35,
   "id": "b826366c",
   "metadata": {},
   "outputs": [
    {
     "data": {
      "text/plain": [
       "1.0"
      ]
     },
     "execution_count": 35,
     "metadata": {},
     "output_type": "execute_result"
    }
   ],
   "source": [
    "10.0 - 10\n",
    "2.5 // 2.5"
   ]
  },
  {
   "cell_type": "markdown",
   "id": "e631a47f",
   "metadata": {},
   "source": [
    "## Order of operations"
   ]
  },
  {
   "cell_type": "code",
   "execution_count": null,
   "id": "22b98e64",
   "metadata": {},
   "outputs": [],
   "source": [
    "# () -> ** -> */ -> +-\n",
    "PEMDAS Concept"
   ]
  },
  {
   "cell_type": "markdown",
   "id": "c6d01911",
   "metadata": {},
   "source": [
    "![alt text](image.png)"
   ]
  },
  {
   "cell_type": "code",
   "execution_count": 37,
   "id": "ef4476fe",
   "metadata": {},
   "outputs": [
    {
     "name": "stdout",
     "output_type": "stream",
     "text": [
      "14\n",
      "12\n",
      "0.5\n"
     ]
    }
   ],
   "source": [
    "a = 4 + 4\n",
    "b = 3 * 2\n",
    "print(a + b)\n",
    "a = a + 4\n",
    "print(a)\n",
    "a = b / a\n",
    "print(a)"
   ]
  },
  {
   "cell_type": "code",
   "execution_count": null,
   "id": "b7c9fec2",
   "metadata": {},
   "outputs": [],
   "source": [
    "+= -= *= /= //="
   ]
  },
  {
   "cell_type": "markdown",
   "id": "7584e0c1",
   "metadata": {},
   "source": [
    "## Logical Operators"
   ]
  },
  {
   "cell_type": "code",
   "execution_count": null,
   "id": "710268e1",
   "metadata": {},
   "outputs": [],
   "source": [
    "> < >= <= != =="
   ]
  }
 ],
 "metadata": {
  "kernelspec": {
   "display_name": "Python 3",
   "language": "python",
   "name": "python3"
  },
  "language_info": {
   "codemirror_mode": {
    "name": "ipython",
    "version": 3
   },
   "file_extension": ".py",
   "mimetype": "text/x-python",
   "name": "python",
   "nbconvert_exporter": "python",
   "pygments_lexer": "ipython3",
   "version": "3.12.4"
  }
 },
 "nbformat": 4,
 "nbformat_minor": 5
}
