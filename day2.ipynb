{
 "cells": [
  {
   "metadata": {},
   "cell_type": "code",
   "outputs": [],
   "execution_count": null,
   "source": "",
   "id": "fa5e7f3be53f1b98"
  },
  {
   "cell_type": "code",
   "id": "initial_id",
   "metadata": {
    "collapsed": true,
    "ExecuteTime": {
     "end_time": "2024-09-10T12:16:30.863388Z",
     "start_time": "2024-09-10T12:16:30.855371Z"
    }
   },
   "source": [
    "print(\"Hello World\") #print(\"Hello World\")\n",
    "print(\"From the other side\")"
   ],
   "outputs": [
    {
     "name": "stdout",
     "output_type": "stream",
     "text": [
      "Hello World\n",
      "From the other side\n"
     ]
    }
   ],
   "execution_count": 4
  },
  {
   "metadata": {
    "ExecuteTime": {
     "end_time": "2024-09-10T11:53:01.594470Z",
     "start_time": "2024-09-10T11:53:01.590197Z"
    }
   },
   "cell_type": "code",
   "source": [
    "def fibo(n):\n",
    "    if n == 1 or n == 2:\n",
    "        return 1\n",
    "    else:\n",
    "        return fibo(n-1) + fibo(n-2)\n",
    "    \n",
    "print(fibo(10))"
   ],
   "id": "e31785ba40229ade",
   "outputs": [
    {
     "name": "stdout",
     "output_type": "stream",
     "text": [
      "55\n"
     ]
    }
   ],
   "execution_count": 3
  },
  {
   "metadata": {},
   "cell_type": "code",
   "outputs": [],
   "execution_count": null,
   "source": [
    "\"\"\"\n",
    "    This is\n",
    "    Multiline\n",
    "    Comment\n",
    "\"\"\""
   ],
   "id": "25be80a7ce185671"
  },
  {
   "metadata": {
    "ExecuteTime": {
     "end_time": "2024-09-10T12:24:06.288518Z",
     "start_time": "2024-09-10T12:24:06.277776Z"
    }
   },
   "cell_type": "code",
   "source": "print(\"Duck\", \"Lord\", sep=\"+\")",
   "id": "5590dc2ee358f708",
   "outputs": [
    {
     "name": "stdout",
     "output_type": "stream",
     "text": [
      "Duck+Lord\n"
     ]
    }
   ],
   "execution_count": 6
  },
  {
   "metadata": {
    "ExecuteTime": {
     "end_time": "2024-09-10T12:27:10.399646Z",
     "start_time": "2024-09-10T12:27:10.393872Z"
    }
   },
   "cell_type": "code",
   "source": [
    "print(\"My name is Akarapong\")\n",
    "print(\"I am 19 years old\")\n",
    "print(\"I am computer science student\")"
   ],
   "id": "bef7d75535cb00f8",
   "outputs": [
    {
     "name": "stdout",
     "output_type": "stream",
     "text": [
      "My name is Akarapong\n",
      "I am 19 years old\n",
      "I am computer science student\n"
     ]
    }
   ],
   "execution_count": 7
  }
 ],
 "metadata": {
  "kernelspec": {
   "display_name": "Python 3",
   "language": "python",
   "name": "python3"
  },
  "language_info": {
   "codemirror_mode": {
    "name": "ipython",
    "version": 2
   },
   "file_extension": ".py",
   "mimetype": "text/x-python",
   "name": "python",
   "nbconvert_exporter": "python",
   "pygments_lexer": "ipython2",
   "version": "2.7.6"
  }
 },
 "nbformat": 4,
 "nbformat_minor": 5
}
