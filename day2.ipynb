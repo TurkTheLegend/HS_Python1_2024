{
 "cells": [
  {
   "cell_type": "code",
   "execution_count": null,
   "id": "fa5e7f3be53f1b98",
   "metadata": {},
   "outputs": [],
   "source": []
  },
  {
   "cell_type": "code",
   "execution_count": 3,
   "id": "initial_id",
   "metadata": {
    "ExecuteTime": {
     "end_time": "2024-09-10T12:16:30.863388Z",
     "start_time": "2024-09-10T12:16:30.855371Z"
    },
    "collapsed": true
   },
   "outputs": [
    {
     "name": "stdout",
     "output_type": "stream",
     "text": [
      "Hello World\n",
      "From the other side\n"
     ]
    }
   ],
   "source": [
    "print(\"Hello World\") #print(\"Hello World\")\n",
    "print(\"From the other side\")"
   ]
  },
  {
   "cell_type": "code",
   "execution_count": 1,
   "id": "e31785ba40229ade",
   "metadata": {
    "ExecuteTime": {
     "end_time": "2024-09-10T11:53:01.594470Z",
     "start_time": "2024-09-10T11:53:01.590197Z"
    }
   },
   "outputs": [
    {
     "name": "stdout",
     "output_type": "stream",
     "text": [
      "55\n"
     ]
    }
   ],
   "source": [
    "def fibo(n):\n",
    "    if n == 1 or n == 2:\n",
    "        return 1\n",
    "    else:\n",
    "        return fibo(n-1) + fibo(n-2)\n",
    "    \n",
    "print(fibo(10))"
   ]
  },
  {
   "cell_type": "code",
   "execution_count": null,
   "id": "25be80a7ce185671",
   "metadata": {},
   "outputs": [],
   "source": [
    "\"\"\"\n",
    "    This is\n",
    "    Multiline\n",
    "    Comment\n",
    "\"\"\""
   ]
  },
  {
   "cell_type": "code",
   "execution_count": 6,
   "id": "5590dc2ee358f708",
   "metadata": {
    "ExecuteTime": {
     "end_time": "2024-09-10T12:24:06.288518Z",
     "start_time": "2024-09-10T12:24:06.277776Z"
    }
   },
   "outputs": [
    {
     "name": "stdout",
     "output_type": "stream",
     "text": [
      "Duck+Lord\n"
     ]
    }
   ],
   "source": [
    "print(\"Duck\", \"Lord\", sep=\"+\")"
   ]
  },
  {
   "cell_type": "code",
   "execution_count": 7,
   "id": "bef7d75535cb00f8",
   "metadata": {
    "ExecuteTime": {
     "end_time": "2024-09-10T12:27:10.399646Z",
     "start_time": "2024-09-10T12:27:10.393872Z"
    }
   },
   "outputs": [
    {
     "name": "stdout",
     "output_type": "stream",
     "text": [
      "My name is Akarapong\n",
      "I am 19 years old\n",
      "I am computer science student\n"
     ]
    }
   ],
   "source": [
    "print(\"My name is Akarapong\")\n",
    "print(\"I am 19 years old\")\n",
    "print(\"I am computer science student\")"
   ]
  },
  {
   "cell_type": "markdown",
   "id": "5395545cbbf20bd5",
   "metadata": {},
   "source": [
    "1.Integer - int\n",
    "2.floating point - float\n",
    "3.string - str\n",
    "4.boolean - bool\n",
    "5.Nonetype - None\n",
    "\n",
    "List Tuple Set Dictionary"
   ]
  },
  {
   "cell_type": "code",
   "execution_count": 1,
   "id": "62f0d008c7d0277f",
   "metadata": {
    "ExecuteTime": {
     "end_time": "2024-09-10T14:42:48.567229Z",
     "start_time": "2024-09-10T14:42:48.557067Z"
    }
   },
   "outputs": [
    {
     "ename": "SyntaxError",
     "evalue": "invalid syntax (715372593.py, line 5)",
     "output_type": "error",
     "traceback": [
      "\u001b[0;36m  Cell \u001b[0;32mIn[1], line 5\u001b[0;36m\u001b[0m\n\u001b[0;31m    3.14 2.0 0.0\u001b[0m\n\u001b[0m         ^\u001b[0m\n\u001b[0;31mSyntaxError\u001b[0m\u001b[0;31m:\u001b[0m invalid syntax\n"
     ]
    }
   ],
   "source": [
    "#int int()\n",
    "2, 5 ,7\n",
    "\n",
    "#float float()\n",
    "3.14 2.0 0.0\n",
    "#string\n",
    "\"HI\"\n",
    "'HI'\n",
    "\"\"\"\n",
    "asdsadsad\n",
    "asdsadsa\n",
    "\"\"\"\n",
    "\n",
    "#boolean \n",
    "True, False\n",
    "\n",
    "#Nonetype\n",
    "None"
   ]
  },
  {
   "cell_type": "markdown",
   "id": "121df759300e4092",
   "metadata": {},
   "source": [
    "# Type Checking\n"
   ]
  },
  {
   "cell_type": "code",
   "execution_count": 4,
   "id": "55234da4226520f5",
   "metadata": {
    "ExecuteTime": {
     "end_time": "2024-09-10T12:48:39.167436Z",
     "start_time": "2024-09-10T12:48:39.163337Z"
    }
   },
   "outputs": [
    {
     "name": "stdout",
     "output_type": "stream",
     "text": [
      "True\n",
      "True\n"
     ]
    }
   ],
   "source": [
    "\n",
    "print(isinstance(-1, int))\n",
    "print(isinstance(-1, int))\n",
    "\n"
   ]
  }
 ],
 "metadata": {
  "kernelspec": {
   "display_name": "Python 3",
   "language": "python",
   "name": "python3"
  },
  "language_info": {
   "codemirror_mode": {
    "name": "ipython",
    "version": 3
   },
   "file_extension": ".py",
   "mimetype": "text/x-python",
   "name": "python",
   "nbconvert_exporter": "python",
   "pygments_lexer": "ipython3",
   "version": "3.12.4"
  }
 },
 "nbformat": 4,
 "nbformat_minor": 5
}
