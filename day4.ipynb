{
 "cells": [
  {
   "cell_type": "markdown",
   "metadata": {},
   "source": [
    "# Day 4"
   ]
  },
  {
   "cell_type": "code",
   "execution_count": 4,
   "metadata": {},
   "outputs": [
    {
     "data": {
      "text/plain": [
       "True"
      ]
     },
     "execution_count": 4,
     "metadata": {},
     "output_type": "execute_result"
    }
   ],
   "source": [
    "#not, and, or\n",
    "not True\n",
    "not False\n",
    "True or True\n",
    "False or True"
   ]
  },
  {
   "cell_type": "code",
   "execution_count": 6,
   "metadata": {},
   "outputs": [
    {
     "name": "stdout",
     "output_type": "stream",
     "text": [
      "100000\n"
     ]
    }
   ],
   "source": [
    "user_input = int(input())\n",
    "print(user_input + 1)\n",
    "user_firstname = input()"
   ]
  },
  {
   "cell_type": "markdown",
   "metadata": {},
   "source": [
    "## Adder Program"
   ]
  },
  {
   "cell_type": "code",
   "execution_count": 8,
   "metadata": {},
   "outputs": [
    {
     "name": "stdout",
     "output_type": "stream",
     "text": [
      "Sum of both number is 20\n"
     ]
    }
   ],
   "source": [
    "first_number = int(input(\"Input first number : \"))\n",
    "second_number = int(input(\"Input second number : \"))\n",
    "result = first_number + second_number\n",
    "print(\"Sum of both number is\", result)"
   ]
  },
  {
   "cell_type": "markdown",
   "metadata": {},
   "source": [
    "## Temperature Converter"
   ]
  },
  {
   "cell_type": "code",
   "execution_count": 23,
   "metadata": {},
   "outputs": [
    {
     "name": "stdout",
     "output_type": "stream",
     "text": [
      "212.0 °F \n",
      " 373.0 K \n",
      " 197.97619047619048 °Rø \n",
      "\n"
     ]
    }
   ],
   "source": [
    "temperature_in_celcius = float(input(\"Input temperature :\"))\n",
    "temperature_in_fahrenheit = ((temperature_in_celcius * 9) / 5 + 32)\n",
    "temperature_in_kelvin = temperature_in_celcius + 273\n",
    "temperature_in_romer = (temperature_in_celcius / (21/40)) + 7.5\n",
    "print(temperature_in_fahrenheit, \"°F \\n\",\n",
    " temperature_in_kelvin, \"K \\n\",\n",
    "  temperature_in_romer, \"°Rø \\n\",)\n"
   ]
  },
  {
   "cell_type": "code",
   "execution_count": null,
   "metadata": {},
   "outputs": [],
   "source": []
  }
 ],
 "metadata": {
  "kernelspec": {
   "display_name": "hs_learning_env",
   "language": "python",
   "name": "python3"
  },
  "language_info": {
   "codemirror_mode": {
    "name": "ipython",
    "version": 3
   },
   "file_extension": ".py",
   "mimetype": "text/x-python",
   "name": "python",
   "nbconvert_exporter": "python",
   "pygments_lexer": "ipython3",
   "version": "3.12.4"
  }
 },
 "nbformat": 4,
 "nbformat_minor": 2
}
